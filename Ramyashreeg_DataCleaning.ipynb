{
 "cells": [
  {
   "cell_type": "code",
   "execution_count": 1,
   "id": "36cde04f",
   "metadata": {},
   "outputs": [
    {
     "data": {
      "text/html": [
       "<div>\n",
       "<style scoped>\n",
       "    .dataframe tbody tr th:only-of-type {\n",
       "        vertical-align: middle;\n",
       "    }\n",
       "\n",
       "    .dataframe tbody tr th {\n",
       "        vertical-align: top;\n",
       "    }\n",
       "\n",
       "    .dataframe thead th {\n",
       "        text-align: right;\n",
       "    }\n",
       "</style>\n",
       "<table border=\"1\" class=\"dataframe\">\n",
       "  <thead>\n",
       "    <tr style=\"text-align: right;\">\n",
       "      <th></th>\n",
       "      <th>id</th>\n",
       "      <th>name</th>\n",
       "      <th>popularity</th>\n",
       "      <th>duration_ms</th>\n",
       "      <th>explicit</th>\n",
       "      <th>artists</th>\n",
       "      <th>id_artists</th>\n",
       "      <th>release_date</th>\n",
       "      <th>danceability</th>\n",
       "      <th>energy</th>\n",
       "      <th>key</th>\n",
       "      <th>loudness</th>\n",
       "      <th>mode</th>\n",
       "      <th>speechiness</th>\n",
       "      <th>acousticness</th>\n",
       "      <th>instrumentalness</th>\n",
       "      <th>liveness</th>\n",
       "      <th>valence</th>\n",
       "      <th>tempo</th>\n",
       "      <th>time_signature</th>\n",
       "    </tr>\n",
       "  </thead>\n",
       "  <tbody>\n",
       "    <tr>\n",
       "      <th>0</th>\n",
       "      <td>35iwgR4jXetI318WEWsa1Q</td>\n",
       "      <td>Carve</td>\n",
       "      <td>6</td>\n",
       "      <td>126903</td>\n",
       "      <td>NaN</td>\n",
       "      <td>['Uli']</td>\n",
       "      <td>['45tIt06XoI0Iio4LBEVpls']</td>\n",
       "      <td>22-02-1922</td>\n",
       "      <td>0.645</td>\n",
       "      <td>0.4450</td>\n",
       "      <td>0.0</td>\n",
       "      <td>-13.338</td>\n",
       "      <td>1.0</td>\n",
       "      <td>0.4510</td>\n",
       "      <td>0.674</td>\n",
       "      <td>0.7440</td>\n",
       "      <td>0.151</td>\n",
       "      <td>0.127</td>\n",
       "      <td>104.851</td>\n",
       "      <td>3</td>\n",
       "    </tr>\n",
       "    <tr>\n",
       "      <th>1</th>\n",
       "      <td>021ht4sdgPcrDgSk7JTbKY</td>\n",
       "      <td>Capítulo 2.16 - Banquero Anarquista</td>\n",
       "      <td>0</td>\n",
       "      <td>98200</td>\n",
       "      <td>NaN</td>\n",
       "      <td>['Fernando Pessoa']</td>\n",
       "      <td>['14jtPCOoNZwquk5wd9DxrY']</td>\n",
       "      <td>01-06-1922</td>\n",
       "      <td>0.695</td>\n",
       "      <td>0.2630</td>\n",
       "      <td>0.0</td>\n",
       "      <td>-22.136</td>\n",
       "      <td>1.0</td>\n",
       "      <td>0.9570</td>\n",
       "      <td>0.797</td>\n",
       "      <td>0.0000</td>\n",
       "      <td>0.148</td>\n",
       "      <td>0.655</td>\n",
       "      <td>102.009</td>\n",
       "      <td>1</td>\n",
       "    </tr>\n",
       "    <tr>\n",
       "      <th>2</th>\n",
       "      <td>07A5yehtSnoedViJAZkNnc</td>\n",
       "      <td>Vivo para Quererte - Remasterizado</td>\n",
       "      <td>0</td>\n",
       "      <td>181640</td>\n",
       "      <td>NaN</td>\n",
       "      <td>['Ignacio Corsini']</td>\n",
       "      <td>['5LiOoJbxVSAMkBS2fUm3X2']</td>\n",
       "      <td>21-03-1922</td>\n",
       "      <td>0.434</td>\n",
       "      <td>0.1770</td>\n",
       "      <td>1.0</td>\n",
       "      <td>-21.180</td>\n",
       "      <td>1.0</td>\n",
       "      <td>0.0512</td>\n",
       "      <td>0.994</td>\n",
       "      <td>0.0218</td>\n",
       "      <td>0.212</td>\n",
       "      <td>0.457</td>\n",
       "      <td>130.418</td>\n",
       "      <td>5</td>\n",
       "    </tr>\n",
       "    <tr>\n",
       "      <th>3</th>\n",
       "      <td>08FmqUhxtyLTn6pAh6bk45</td>\n",
       "      <td>El Prisionero - Remasterizado</td>\n",
       "      <td>0</td>\n",
       "      <td>176907</td>\n",
       "      <td>NaN</td>\n",
       "      <td>['Ignacio Corsini']</td>\n",
       "      <td>['5LiOoJbxVSAMkBS2fUm3X2']</td>\n",
       "      <td>21-03-1922</td>\n",
       "      <td>0.321</td>\n",
       "      <td>0.0946</td>\n",
       "      <td>7.0</td>\n",
       "      <td>-27.961</td>\n",
       "      <td>1.0</td>\n",
       "      <td>0.0504</td>\n",
       "      <td>0.995</td>\n",
       "      <td>0.9180</td>\n",
       "      <td>0.104</td>\n",
       "      <td>0.397</td>\n",
       "      <td>169.980</td>\n",
       "      <td>3</td>\n",
       "    </tr>\n",
       "    <tr>\n",
       "      <th>4</th>\n",
       "      <td>08y9GfoqCWfOGsKdwojr5e</td>\n",
       "      <td>Lady of the Evening</td>\n",
       "      <td>0</td>\n",
       "      <td>163080</td>\n",
       "      <td>NaN</td>\n",
       "      <td>['Dick Haymes']</td>\n",
       "      <td>['3BiJGZsyX9sJchTqcSA7Su']</td>\n",
       "      <td>1922</td>\n",
       "      <td>0.402</td>\n",
       "      <td>0.1580</td>\n",
       "      <td>3.0</td>\n",
       "      <td>-16.900</td>\n",
       "      <td>0.0</td>\n",
       "      <td>0.0390</td>\n",
       "      <td>0.989</td>\n",
       "      <td>0.1300</td>\n",
       "      <td>0.311</td>\n",
       "      <td>0.196</td>\n",
       "      <td>103.220</td>\n",
       "      <td>4</td>\n",
       "    </tr>\n",
       "    <tr>\n",
       "      <th>...</th>\n",
       "      <td>...</td>\n",
       "      <td>...</td>\n",
       "      <td>...</td>\n",
       "      <td>...</td>\n",
       "      <td>...</td>\n",
       "      <td>...</td>\n",
       "      <td>...</td>\n",
       "      <td>...</td>\n",
       "      <td>...</td>\n",
       "      <td>...</td>\n",
       "      <td>...</td>\n",
       "      <td>...</td>\n",
       "      <td>...</td>\n",
       "      <td>...</td>\n",
       "      <td>...</td>\n",
       "      <td>...</td>\n",
       "      <td>...</td>\n",
       "      <td>...</td>\n",
       "      <td>...</td>\n",
       "      <td>...</td>\n",
       "    </tr>\n",
       "    <tr>\n",
       "      <th>587317</th>\n",
       "      <td>0ZLFySfiageV9HiIi5gta0</td>\n",
       "      <td>Chapter 5.13 - Król Maciuś Pierwszy</td>\n",
       "      <td>0</td>\n",
       "      <td>142400</td>\n",
       "      <td>NaN</td>\n",
       "      <td>['Janusz Korczak']</td>\n",
       "      <td>['4hLtcEEpjCmBtTnDdzRV4J']</td>\n",
       "      <td>27-12-1923</td>\n",
       "      <td>0.630</td>\n",
       "      <td>0.2620</td>\n",
       "      <td>1.0</td>\n",
       "      <td>-18.944</td>\n",
       "      <td>1.0</td>\n",
       "      <td>0.9590</td>\n",
       "      <td>0.788</td>\n",
       "      <td>0.0000</td>\n",
       "      <td>0.236</td>\n",
       "      <td>0.787</td>\n",
       "      <td>167.846</td>\n",
       "      <td>5</td>\n",
       "    </tr>\n",
       "    <tr>\n",
       "      <th>587318</th>\n",
       "      <td>0ZRoSs5icoW5QJvZq0Y73w</td>\n",
       "      <td>Demasiado tarde - en vivo</td>\n",
       "      <td>0</td>\n",
       "      <td>185063</td>\n",
       "      <td>NaN</td>\n",
       "      <td>['Yiyo y Los Chicos 10']</td>\n",
       "      <td>['6JXytsNesnjzxv4tHWbe9I']</td>\n",
       "      <td>1923</td>\n",
       "      <td>0.583</td>\n",
       "      <td>0.7150</td>\n",
       "      <td>11.0</td>\n",
       "      <td>-2.410</td>\n",
       "      <td>0.0</td>\n",
       "      <td>0.0287</td>\n",
       "      <td>0.839</td>\n",
       "      <td>0.0000</td>\n",
       "      <td>0.363</td>\n",
       "      <td>0.772</td>\n",
       "      <td>104.346</td>\n",
       "      <td>4</td>\n",
       "    </tr>\n",
       "    <tr>\n",
       "      <th>587319</th>\n",
       "      <td>0bKuq3fIaF2ut82ip9DQLP</td>\n",
       "      <td>Chapter 7.17 - Król Maciuś Pierwszy</td>\n",
       "      <td>0</td>\n",
       "      <td>131400</td>\n",
       "      <td>NaN</td>\n",
       "      <td>['Janusz Korczak']</td>\n",
       "      <td>['4hLtcEEpjCmBtTnDdzRV4J']</td>\n",
       "      <td>27-12-1923</td>\n",
       "      <td>0.713</td>\n",
       "      <td>0.2050</td>\n",
       "      <td>10.0</td>\n",
       "      <td>-19.485</td>\n",
       "      <td>0.0</td>\n",
       "      <td>0.9370</td>\n",
       "      <td>0.747</td>\n",
       "      <td>0.0000</td>\n",
       "      <td>0.387</td>\n",
       "      <td>0.697</td>\n",
       "      <td>110.768</td>\n",
       "      <td>5</td>\n",
       "    </tr>\n",
       "    <tr>\n",
       "      <th>587320</th>\n",
       "      <td>0bu5dGUeiK4QwwcC50yWQU</td>\n",
       "      <td>Chapter 7.12 - Król Maciuś Pierwszy</td>\n",
       "      <td>0</td>\n",
       "      <td>139000</td>\n",
       "      <td>NaN</td>\n",
       "      <td>['Janusz Korczak']</td>\n",
       "      <td>['4hLtcEEpjCmBtTnDdzRV4J']</td>\n",
       "      <td>27-12-1923</td>\n",
       "      <td>0.703</td>\n",
       "      <td>0.1680</td>\n",
       "      <td>5.0</td>\n",
       "      <td>-21.155</td>\n",
       "      <td>0.0</td>\n",
       "      <td>0.9580</td>\n",
       "      <td>0.718</td>\n",
       "      <td>0.0000</td>\n",
       "      <td>0.319</td>\n",
       "      <td>0.699</td>\n",
       "      <td>83.097</td>\n",
       "      <td>3</td>\n",
       "    </tr>\n",
       "    <tr>\n",
       "      <th>587321</th>\n",
       "      <td>0epiP90h88hjRHGk9RIins</td>\n",
       "      <td>Chapter 4.3 - Król Maciuś na wyspie bezludnej</td>\n",
       "      <td>0</td>\n",
       "      <td>144300</td>\n",
       "      <td>NaN</td>\n",
       "      <td>['Janusz Korczak']</td>\n",
       "      <td>['4hLtcEEpjCmBtTnDdzRV4J']</td>\n",
       "      <td>27-12-1923</td>\n",
       "      <td>0.637</td>\n",
       "      <td>0.2750</td>\n",
       "      <td>1.0</td>\n",
       "      <td>-19.782</td>\n",
       "      <td>1.0</td>\n",
       "      <td>0.9620</td>\n",
       "      <td>0.735</td>\n",
       "      <td>0.0000</td>\n",
       "      <td>0.158</td>\n",
       "      <td>0.603</td>\n",
       "      <td>163.142</td>\n",
       "      <td>3</td>\n",
       "    </tr>\n",
       "  </tbody>\n",
       "</table>\n",
       "<p>587322 rows × 20 columns</p>\n",
       "</div>"
      ],
      "text/plain": [
       "                            id                                           name  \\\n",
       "0       35iwgR4jXetI318WEWsa1Q                                          Carve   \n",
       "1       021ht4sdgPcrDgSk7JTbKY            Capítulo 2.16 - Banquero Anarquista   \n",
       "2       07A5yehtSnoedViJAZkNnc             Vivo para Quererte - Remasterizado   \n",
       "3       08FmqUhxtyLTn6pAh6bk45                  El Prisionero - Remasterizado   \n",
       "4       08y9GfoqCWfOGsKdwojr5e                            Lady of the Evening   \n",
       "...                        ...                                            ...   \n",
       "587317  0ZLFySfiageV9HiIi5gta0            Chapter 5.13 - Król Maciuś Pierwszy   \n",
       "587318  0ZRoSs5icoW5QJvZq0Y73w                      Demasiado tarde - en vivo   \n",
       "587319  0bKuq3fIaF2ut82ip9DQLP            Chapter 7.17 - Król Maciuś Pierwszy   \n",
       "587320  0bu5dGUeiK4QwwcC50yWQU            Chapter 7.12 - Król Maciuś Pierwszy   \n",
       "587321  0epiP90h88hjRHGk9RIins  Chapter 4.3 - Król Maciuś na wyspie bezludnej   \n",
       "\n",
       "        popularity  duration_ms  explicit                   artists  \\\n",
       "0                6       126903       NaN                   ['Uli']   \n",
       "1                0        98200       NaN       ['Fernando Pessoa']   \n",
       "2                0       181640       NaN       ['Ignacio Corsini']   \n",
       "3                0       176907       NaN       ['Ignacio Corsini']   \n",
       "4                0       163080       NaN           ['Dick Haymes']   \n",
       "...            ...          ...       ...                       ...   \n",
       "587317           0       142400       NaN        ['Janusz Korczak']   \n",
       "587318           0       185063       NaN  ['Yiyo y Los Chicos 10']   \n",
       "587319           0       131400       NaN        ['Janusz Korczak']   \n",
       "587320           0       139000       NaN        ['Janusz Korczak']   \n",
       "587321           0       144300       NaN        ['Janusz Korczak']   \n",
       "\n",
       "                        id_artists release_date  danceability  energy   key  \\\n",
       "0       ['45tIt06XoI0Iio4LBEVpls']   22-02-1922         0.645  0.4450   0.0   \n",
       "1       ['14jtPCOoNZwquk5wd9DxrY']   01-06-1922         0.695  0.2630   0.0   \n",
       "2       ['5LiOoJbxVSAMkBS2fUm3X2']   21-03-1922         0.434  0.1770   1.0   \n",
       "3       ['5LiOoJbxVSAMkBS2fUm3X2']   21-03-1922         0.321  0.0946   7.0   \n",
       "4       ['3BiJGZsyX9sJchTqcSA7Su']         1922         0.402  0.1580   3.0   \n",
       "...                            ...          ...           ...     ...   ...   \n",
       "587317  ['4hLtcEEpjCmBtTnDdzRV4J']   27-12-1923         0.630  0.2620   1.0   \n",
       "587318  ['6JXytsNesnjzxv4tHWbe9I']         1923         0.583  0.7150  11.0   \n",
       "587319  ['4hLtcEEpjCmBtTnDdzRV4J']   27-12-1923         0.713  0.2050  10.0   \n",
       "587320  ['4hLtcEEpjCmBtTnDdzRV4J']   27-12-1923         0.703  0.1680   5.0   \n",
       "587321  ['4hLtcEEpjCmBtTnDdzRV4J']   27-12-1923         0.637  0.2750   1.0   \n",
       "\n",
       "        loudness  mode  speechiness  acousticness  instrumentalness  liveness  \\\n",
       "0        -13.338   1.0       0.4510         0.674            0.7440     0.151   \n",
       "1        -22.136   1.0       0.9570         0.797            0.0000     0.148   \n",
       "2        -21.180   1.0       0.0512         0.994            0.0218     0.212   \n",
       "3        -27.961   1.0       0.0504         0.995            0.9180     0.104   \n",
       "4        -16.900   0.0       0.0390         0.989            0.1300     0.311   \n",
       "...          ...   ...          ...           ...               ...       ...   \n",
       "587317   -18.944   1.0       0.9590         0.788            0.0000     0.236   \n",
       "587318    -2.410   0.0       0.0287         0.839            0.0000     0.363   \n",
       "587319   -19.485   0.0       0.9370         0.747            0.0000     0.387   \n",
       "587320   -21.155   0.0       0.9580         0.718            0.0000     0.319   \n",
       "587321   -19.782   1.0       0.9620         0.735            0.0000     0.158   \n",
       "\n",
       "        valence    tempo  time_signature  \n",
       "0         0.127  104.851               3  \n",
       "1         0.655  102.009               1  \n",
       "2         0.457  130.418               5  \n",
       "3         0.397  169.980               3  \n",
       "4         0.196  103.220               4  \n",
       "...         ...      ...             ...  \n",
       "587317    0.787  167.846               5  \n",
       "587318    0.772  104.346               4  \n",
       "587319    0.697  110.768               5  \n",
       "587320    0.699   83.097               3  \n",
       "587321    0.603  163.142               3  \n",
       "\n",
       "[587322 rows x 20 columns]"
      ]
     },
     "execution_count": 1,
     "metadata": {},
     "output_type": "execute_result"
    }
   ],
   "source": [
    "import pandas as pd\n",
    "df=pd.read_csv(\"tracks.csv\")\n",
    "df"
   ]
  },
  {
   "cell_type": "code",
   "execution_count": 2,
   "id": "1ef4b0e8",
   "metadata": {},
   "outputs": [
    {
     "data": {
      "text/plain": [
       "(587322, 20)"
      ]
     },
     "execution_count": 2,
     "metadata": {},
     "output_type": "execute_result"
    }
   ],
   "source": [
    "df.shape"
   ]
  },
  {
   "cell_type": "code",
   "execution_count": 3,
   "id": "d14ecb20",
   "metadata": {},
   "outputs": [
    {
     "name": "stdout",
     "output_type": "stream",
     "text": [
      "<class 'pandas.core.frame.DataFrame'>\n",
      "RangeIndex: 587322 entries, 0 to 587321\n",
      "Data columns (total 20 columns):\n",
      " #   Column            Non-Null Count   Dtype  \n",
      "---  ------            --------------   -----  \n",
      " 0   id                587322 non-null  object \n",
      " 1   name              587251 non-null  object \n",
      " 2   popularity        587322 non-null  int64  \n",
      " 3   duration_ms       587322 non-null  int64  \n",
      " 4   explicit          112335 non-null  float64\n",
      " 5   artists           587322 non-null  object \n",
      " 6   id_artists        587322 non-null  object \n",
      " 7   release_date      587322 non-null  object \n",
      " 8   danceability      587322 non-null  float64\n",
      " 9   energy            587322 non-null  float64\n",
      " 10  key               587247 non-null  float64\n",
      " 11  loudness          587322 non-null  float64\n",
      " 12  mode              587178 non-null  float64\n",
      " 13  speechiness       587322 non-null  float64\n",
      " 14  acousticness      587322 non-null  float64\n",
      " 15  instrumentalness  587322 non-null  float64\n",
      " 16  liveness          587322 non-null  float64\n",
      " 17  valence           587322 non-null  float64\n",
      " 18  tempo             587322 non-null  float64\n",
      " 19  time_signature    587322 non-null  int64  \n",
      "dtypes: float64(12), int64(3), object(5)\n",
      "memory usage: 89.6+ MB\n"
     ]
    }
   ],
   "source": [
    "df.info()"
   ]
  },
  {
   "cell_type": "code",
   "execution_count": 4,
   "id": "6e58005b",
   "metadata": {},
   "outputs": [
    {
     "data": {
      "text/plain": [
       "id                       0\n",
       "name                    71\n",
       "popularity               0\n",
       "duration_ms              0\n",
       "explicit            474987\n",
       "artists                  0\n",
       "id_artists               0\n",
       "release_date             0\n",
       "danceability             0\n",
       "energy                   0\n",
       "key                     75\n",
       "loudness                 0\n",
       "mode                   144\n",
       "speechiness              0\n",
       "acousticness             0\n",
       "instrumentalness         0\n",
       "liveness                 0\n",
       "valence                  0\n",
       "tempo                    0\n",
       "time_signature           0\n",
       "dtype: int64"
      ]
     },
     "execution_count": 4,
     "metadata": {},
     "output_type": "execute_result"
    }
   ],
   "source": [
    "#checking for the total number of null values in each column\n",
    "df.isna().sum()"
   ]
  },
  {
   "cell_type": "code",
   "execution_count": 5,
   "id": "6169e324",
   "metadata": {},
   "outputs": [
    {
     "data": {
      "text/plain": [
       "id                   0.000000\n",
       "name                 0.012089\n",
       "popularity           0.000000\n",
       "duration_ms          0.000000\n",
       "explicit            80.873354\n",
       "artists              0.000000\n",
       "id_artists           0.000000\n",
       "release_date         0.000000\n",
       "danceability         0.000000\n",
       "energy               0.000000\n",
       "key                  0.012770\n",
       "loudness             0.000000\n",
       "mode                 0.024518\n",
       "speechiness          0.000000\n",
       "acousticness         0.000000\n",
       "instrumentalness     0.000000\n",
       "liveness             0.000000\n",
       "valence              0.000000\n",
       "tempo                0.000000\n",
       "time_signature       0.000000\n",
       "dtype: float64"
      ]
     },
     "execution_count": 5,
     "metadata": {},
     "output_type": "execute_result"
    }
   ],
   "source": [
    "#checking for the percentage of null values\n",
    "(df.isna().sum()/len(df))*100"
   ]
  },
  {
   "cell_type": "code",
   "execution_count": 6,
   "id": "5ecb847f",
   "metadata": {},
   "outputs": [
    {
     "data": {
      "text/html": [
       "<div>\n",
       "<style scoped>\n",
       "    .dataframe tbody tr th:only-of-type {\n",
       "        vertical-align: middle;\n",
       "    }\n",
       "\n",
       "    .dataframe tbody tr th {\n",
       "        vertical-align: top;\n",
       "    }\n",
       "\n",
       "    .dataframe thead th {\n",
       "        text-align: right;\n",
       "    }\n",
       "</style>\n",
       "<table border=\"1\" class=\"dataframe\">\n",
       "  <thead>\n",
       "    <tr style=\"text-align: right;\">\n",
       "      <th></th>\n",
       "      <th>popularity</th>\n",
       "      <th>duration_ms</th>\n",
       "      <th>explicit</th>\n",
       "      <th>danceability</th>\n",
       "      <th>energy</th>\n",
       "      <th>key</th>\n",
       "      <th>loudness</th>\n",
       "      <th>mode</th>\n",
       "      <th>speechiness</th>\n",
       "      <th>acousticness</th>\n",
       "      <th>instrumentalness</th>\n",
       "      <th>liveness</th>\n",
       "      <th>valence</th>\n",
       "      <th>tempo</th>\n",
       "      <th>time_signature</th>\n",
       "    </tr>\n",
       "  </thead>\n",
       "  <tbody>\n",
       "    <tr>\n",
       "      <th>count</th>\n",
       "      <td>587322.000000</td>\n",
       "      <td>5.873220e+05</td>\n",
       "      <td>112335.000000</td>\n",
       "      <td>587322.000000</td>\n",
       "      <td>587322.000000</td>\n",
       "      <td>587247.000000</td>\n",
       "      <td>587322.000000</td>\n",
       "      <td>587178.000000</td>\n",
       "      <td>587322.000000</td>\n",
       "      <td>587322.000000</td>\n",
       "      <td>587322.000000</td>\n",
       "      <td>587322.000000</td>\n",
       "      <td>587322.000000</td>\n",
       "      <td>587322.000000</td>\n",
       "      <td>587322.000000</td>\n",
       "    </tr>\n",
       "    <tr>\n",
       "      <th>mean</th>\n",
       "      <td>27.577040</td>\n",
       "      <td>2.300632e+05</td>\n",
       "      <td>0.053145</td>\n",
       "      <td>0.563568</td>\n",
       "      <td>0.542078</td>\n",
       "      <td>5.221609</td>\n",
       "      <td>-10.206759</td>\n",
       "      <td>0.658843</td>\n",
       "      <td>0.104839</td>\n",
       "      <td>0.449716</td>\n",
       "      <td>0.113447</td>\n",
       "      <td>0.213908</td>\n",
       "      <td>0.552271</td>\n",
       "      <td>118.467246</td>\n",
       "      <td>3.873405</td>\n",
       "    </tr>\n",
       "    <tr>\n",
       "      <th>std</th>\n",
       "      <td>18.368858</td>\n",
       "      <td>1.264969e+05</td>\n",
       "      <td>0.224323</td>\n",
       "      <td>0.166103</td>\n",
       "      <td>0.251922</td>\n",
       "      <td>3.519443</td>\n",
       "      <td>5.089061</td>\n",
       "      <td>0.474098</td>\n",
       "      <td>0.179870</td>\n",
       "      <td>0.348836</td>\n",
       "      <td>0.266857</td>\n",
       "      <td>0.184304</td>\n",
       "      <td>0.257664</td>\n",
       "      <td>29.762588</td>\n",
       "      <td>0.473124</td>\n",
       "    </tr>\n",
       "    <tr>\n",
       "      <th>min</th>\n",
       "      <td>0.000000</td>\n",
       "      <td>3.344000e+03</td>\n",
       "      <td>0.000000</td>\n",
       "      <td>0.000000</td>\n",
       "      <td>0.000000</td>\n",
       "      <td>0.000000</td>\n",
       "      <td>-60.000000</td>\n",
       "      <td>0.000000</td>\n",
       "      <td>0.000000</td>\n",
       "      <td>0.000000</td>\n",
       "      <td>0.000000</td>\n",
       "      <td>0.000000</td>\n",
       "      <td>0.000000</td>\n",
       "      <td>0.000000</td>\n",
       "      <td>0.000000</td>\n",
       "    </tr>\n",
       "    <tr>\n",
       "      <th>25%</th>\n",
       "      <td>13.000000</td>\n",
       "      <td>1.750990e+05</td>\n",
       "      <td>0.000000</td>\n",
       "      <td>0.453000</td>\n",
       "      <td>0.343000</td>\n",
       "      <td>2.000000</td>\n",
       "      <td>-12.892000</td>\n",
       "      <td>0.000000</td>\n",
       "      <td>0.034000</td>\n",
       "      <td>0.096700</td>\n",
       "      <td>0.000000</td>\n",
       "      <td>0.098300</td>\n",
       "      <td>0.346000</td>\n",
       "      <td>95.608000</td>\n",
       "      <td>4.000000</td>\n",
       "    </tr>\n",
       "    <tr>\n",
       "      <th>50%</th>\n",
       "      <td>27.000000</td>\n",
       "      <td>2.149200e+05</td>\n",
       "      <td>0.000000</td>\n",
       "      <td>0.577000</td>\n",
       "      <td>0.549000</td>\n",
       "      <td>5.000000</td>\n",
       "      <td>-9.244000</td>\n",
       "      <td>1.000000</td>\n",
       "      <td>0.044300</td>\n",
       "      <td>0.422000</td>\n",
       "      <td>0.000024</td>\n",
       "      <td>0.139000</td>\n",
       "      <td>0.564000</td>\n",
       "      <td>117.386000</td>\n",
       "      <td>4.000000</td>\n",
       "    </tr>\n",
       "    <tr>\n",
       "      <th>75%</th>\n",
       "      <td>41.000000</td>\n",
       "      <td>2.638800e+05</td>\n",
       "      <td>0.000000</td>\n",
       "      <td>0.686000</td>\n",
       "      <td>0.748000</td>\n",
       "      <td>8.000000</td>\n",
       "      <td>-6.482000</td>\n",
       "      <td>1.000000</td>\n",
       "      <td>0.076300</td>\n",
       "      <td>0.784000</td>\n",
       "      <td>0.009558</td>\n",
       "      <td>0.278000</td>\n",
       "      <td>0.769000</td>\n",
       "      <td>136.324000</td>\n",
       "      <td>4.000000</td>\n",
       "    </tr>\n",
       "    <tr>\n",
       "      <th>max</th>\n",
       "      <td>100.000000</td>\n",
       "      <td>5.621218e+06</td>\n",
       "      <td>1.000000</td>\n",
       "      <td>0.991000</td>\n",
       "      <td>1.000000</td>\n",
       "      <td>11.000000</td>\n",
       "      <td>5.376000</td>\n",
       "      <td>1.000000</td>\n",
       "      <td>0.971000</td>\n",
       "      <td>0.996000</td>\n",
       "      <td>1.000000</td>\n",
       "      <td>1.000000</td>\n",
       "      <td>1.000000</td>\n",
       "      <td>246.381000</td>\n",
       "      <td>5.000000</td>\n",
       "    </tr>\n",
       "  </tbody>\n",
       "</table>\n",
       "</div>"
      ],
      "text/plain": [
       "          popularity   duration_ms       explicit   danceability  \\\n",
       "count  587322.000000  5.873220e+05  112335.000000  587322.000000   \n",
       "mean       27.577040  2.300632e+05       0.053145       0.563568   \n",
       "std        18.368858  1.264969e+05       0.224323       0.166103   \n",
       "min         0.000000  3.344000e+03       0.000000       0.000000   \n",
       "25%        13.000000  1.750990e+05       0.000000       0.453000   \n",
       "50%        27.000000  2.149200e+05       0.000000       0.577000   \n",
       "75%        41.000000  2.638800e+05       0.000000       0.686000   \n",
       "max       100.000000  5.621218e+06       1.000000       0.991000   \n",
       "\n",
       "              energy            key       loudness           mode  \\\n",
       "count  587322.000000  587247.000000  587322.000000  587178.000000   \n",
       "mean        0.542078       5.221609     -10.206759       0.658843   \n",
       "std         0.251922       3.519443       5.089061       0.474098   \n",
       "min         0.000000       0.000000     -60.000000       0.000000   \n",
       "25%         0.343000       2.000000     -12.892000       0.000000   \n",
       "50%         0.549000       5.000000      -9.244000       1.000000   \n",
       "75%         0.748000       8.000000      -6.482000       1.000000   \n",
       "max         1.000000      11.000000       5.376000       1.000000   \n",
       "\n",
       "         speechiness   acousticness  instrumentalness       liveness  \\\n",
       "count  587322.000000  587322.000000     587322.000000  587322.000000   \n",
       "mean        0.104839       0.449716          0.113447       0.213908   \n",
       "std         0.179870       0.348836          0.266857       0.184304   \n",
       "min         0.000000       0.000000          0.000000       0.000000   \n",
       "25%         0.034000       0.096700          0.000000       0.098300   \n",
       "50%         0.044300       0.422000          0.000024       0.139000   \n",
       "75%         0.076300       0.784000          0.009558       0.278000   \n",
       "max         0.971000       0.996000          1.000000       1.000000   \n",
       "\n",
       "             valence          tempo  time_signature  \n",
       "count  587322.000000  587322.000000   587322.000000  \n",
       "mean        0.552271     118.467246        3.873405  \n",
       "std         0.257664      29.762588        0.473124  \n",
       "min         0.000000       0.000000        0.000000  \n",
       "25%         0.346000      95.608000        4.000000  \n",
       "50%         0.564000     117.386000        4.000000  \n",
       "75%         0.769000     136.324000        4.000000  \n",
       "max         1.000000     246.381000        5.000000  "
      ]
     },
     "execution_count": 6,
     "metadata": {},
     "output_type": "execute_result"
    }
   ],
   "source": [
    "df.describe()"
   ]
  },
  {
   "cell_type": "code",
   "execution_count": 7,
   "id": "f30ba73e",
   "metadata": {},
   "outputs": [
    {
     "name": "stdout",
     "output_type": "stream",
     "text": [
      "5.0\n"
     ]
    }
   ],
   "source": [
    "#filling the null values for the column 'key'\n",
    "print(df[\"key\"].median())"
   ]
  },
  {
   "cell_type": "code",
   "execution_count": 8,
   "id": "91d11eaf",
   "metadata": {
    "scrolled": false
   },
   "outputs": [],
   "source": [
    "df=df.fillna(df[\"key\"].median())"
   ]
  },
  {
   "cell_type": "code",
   "execution_count": 9,
   "id": "94baa164",
   "metadata": {},
   "outputs": [
    {
     "data": {
      "text/plain": [
       "1.0"
      ]
     },
     "execution_count": 9,
     "metadata": {},
     "output_type": "execute_result"
    }
   ],
   "source": [
    "#filling the null values for the column 'mode'\n",
    "df[\"mode\"].median()"
   ]
  },
  {
   "cell_type": "code",
   "execution_count": 10,
   "id": "fc28f280",
   "metadata": {
    "scrolled": true
   },
   "outputs": [],
   "source": [
    "df=df.fillna(df[\"mode\"].median())"
   ]
  },
  {
   "cell_type": "code",
   "execution_count": 11,
   "id": "8c9ac8a8",
   "metadata": {},
   "outputs": [
    {
     "data": {
      "text/plain": [
       "'Summertime'"
      ]
     },
     "execution_count": 11,
     "metadata": {},
     "output_type": "execute_result"
    }
   ],
   "source": [
    "#filling the null values for the column 'name'\n",
    "df[\"name\"].mode()[0]"
   ]
  },
  {
   "cell_type": "code",
   "execution_count": 12,
   "id": "2dc26ed8",
   "metadata": {},
   "outputs": [],
   "source": [
    "df=df.fillna(df[\"name\"].mode()[0])"
   ]
  },
  {
   "cell_type": "code",
   "execution_count": 13,
   "id": "921733c0",
   "metadata": {},
   "outputs": [],
   "source": [
    "#dropping the column \"explicit\"\n",
    "df.drop([\"explicit\"], axis=1, inplace= True)"
   ]
  },
  {
   "cell_type": "code",
   "execution_count": 14,
   "id": "e00422cc",
   "metadata": {},
   "outputs": [
    {
     "data": {
      "text/plain": [
       "(587322, 19)"
      ]
     },
     "execution_count": 14,
     "metadata": {},
     "output_type": "execute_result"
    }
   ],
   "source": [
    "df.shape"
   ]
  },
  {
   "cell_type": "code",
   "execution_count": 15,
   "id": "aad6ded8",
   "metadata": {},
   "outputs": [
    {
     "name": "stdout",
     "output_type": "stream",
     "text": [
      "<class 'pandas.core.frame.DataFrame'>\n",
      "RangeIndex: 587322 entries, 0 to 587321\n",
      "Data columns (total 19 columns):\n",
      " #   Column            Non-Null Count   Dtype  \n",
      "---  ------            --------------   -----  \n",
      " 0   id                587322 non-null  object \n",
      " 1   name              587322 non-null  object \n",
      " 2   popularity        587322 non-null  int64  \n",
      " 3   duration_ms       587322 non-null  int64  \n",
      " 4   artists           587322 non-null  object \n",
      " 5   id_artists        587322 non-null  object \n",
      " 6   release_date      587322 non-null  object \n",
      " 7   danceability      587322 non-null  float64\n",
      " 8   energy            587322 non-null  float64\n",
      " 9   key               587322 non-null  float64\n",
      " 10  loudness          587322 non-null  float64\n",
      " 11  mode              587322 non-null  float64\n",
      " 12  speechiness       587322 non-null  float64\n",
      " 13  acousticness      587322 non-null  float64\n",
      " 14  instrumentalness  587322 non-null  float64\n",
      " 15  liveness          587322 non-null  float64\n",
      " 16  valence           587322 non-null  float64\n",
      " 17  tempo             587322 non-null  float64\n",
      " 18  time_signature    587322 non-null  int64  \n",
      "dtypes: float64(11), int64(3), object(5)\n",
      "memory usage: 85.1+ MB\n"
     ]
    }
   ],
   "source": [
    "df.info()"
   ]
  },
  {
   "cell_type": "code",
   "execution_count": 16,
   "id": "f82f1b0f",
   "metadata": {},
   "outputs": [
    {
     "data": {
      "text/plain": [
       "id                  0.0\n",
       "name                0.0\n",
       "popularity          0.0\n",
       "duration_ms         0.0\n",
       "artists             0.0\n",
       "id_artists          0.0\n",
       "release_date        0.0\n",
       "danceability        0.0\n",
       "energy              0.0\n",
       "key                 0.0\n",
       "loudness            0.0\n",
       "mode                0.0\n",
       "speechiness         0.0\n",
       "acousticness        0.0\n",
       "instrumentalness    0.0\n",
       "liveness            0.0\n",
       "valence             0.0\n",
       "tempo               0.0\n",
       "time_signature      0.0\n",
       "dtype: float64"
      ]
     },
     "execution_count": 16,
     "metadata": {},
     "output_type": "execute_result"
    }
   ],
   "source": [
    "(df.isnull().sum()/len(df))*100"
   ]
  },
  {
   "cell_type": "code",
   "execution_count": 17,
   "id": "4092f151",
   "metadata": {},
   "outputs": [
    {
     "data": {
      "text/plain": [
       "650"
      ]
     },
     "execution_count": 17,
     "metadata": {},
     "output_type": "execute_result"
    }
   ],
   "source": [
    "#checking for duplicates\n",
    "df.duplicated().sum()"
   ]
  },
  {
   "cell_type": "code",
   "execution_count": 18,
   "id": "0823c12b",
   "metadata": {},
   "outputs": [],
   "source": [
    "#dropping duplicates\n",
    "df.drop_duplicates(inplace=True)"
   ]
  },
  {
   "cell_type": "code",
   "execution_count": 19,
   "id": "12ce6290",
   "metadata": {},
   "outputs": [
    {
     "data": {
      "text/plain": [
       "0"
      ]
     },
     "execution_count": 19,
     "metadata": {},
     "output_type": "execute_result"
    }
   ],
   "source": [
    "df.duplicated().sum()"
   ]
  },
  {
   "cell_type": "code",
   "execution_count": 20,
   "id": "ad2045e0",
   "metadata": {},
   "outputs": [],
   "source": [
    "#creating a creaned csv\n",
    "df.to_csv(\"tracks_cleaned.csv\", index=False)"
   ]
  },
  {
   "cell_type": "code",
   "execution_count": 23,
   "id": "3e85a1e4",
   "metadata": {},
   "outputs": [],
   "source": [
    "#slicing as the data set id too large to handle\n",
    "df1=df.iloc[:4000, ::]"
   ]
  },
  {
   "cell_type": "code",
   "execution_count": 24,
   "id": "713b4a80",
   "metadata": {},
   "outputs": [
    {
     "data": {
      "text/plain": [
       "(4000, 19)"
      ]
     },
     "execution_count": 24,
     "metadata": {},
     "output_type": "execute_result"
    }
   ],
   "source": [
    "df1.shape"
   ]
  },
  {
   "cell_type": "code",
   "execution_count": 25,
   "id": "0ebc80fa",
   "metadata": {},
   "outputs": [],
   "source": [
    "#creating a csv after slicing the data\n",
    "df1.to_csv(\"tracks_sliced.csv\", index=False)"
   ]
  },
  {
   "cell_type": "code",
   "execution_count": null,
   "id": "c48dfa0f",
   "metadata": {},
   "outputs": [],
   "source": []
  }
 ],
 "metadata": {
  "kernelspec": {
   "display_name": "Python 3 (ipykernel)",
   "language": "python",
   "name": "python3"
  },
  "language_info": {
   "codemirror_mode": {
    "name": "ipython",
    "version": 3
   },
   "file_extension": ".py",
   "mimetype": "text/x-python",
   "name": "python",
   "nbconvert_exporter": "python",
   "pygments_lexer": "ipython3",
   "version": "3.11.3"
  }
 },
 "nbformat": 4,
 "nbformat_minor": 5
}
